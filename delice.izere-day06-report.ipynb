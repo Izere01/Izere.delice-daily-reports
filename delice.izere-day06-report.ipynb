{
 "cells": [
  {
   "cell_type": "code",
   "execution_count": 4,
   "id": "civic-smell",
   "metadata": {},
   "outputs": [
    {
     "name": "stdout",
     "output_type": "stream",
     "text": [
      "Enter the natural number n = 4\n",
      "10\n"
     ]
    }
   ],
   "source": [
    "#sum for odd number\n",
    "total_sum=0\n",
    "number=int(input(\"Enter the natural number n = \"))\n",
    "for i in range(number):\n",
    "    if(i%2!=0):\n",
    "        total_sum=total_sum+i+3\n",
    "print(total_sum)   "
   ]
  },
  {
   "cell_type": "code",
   "execution_count": 3,
   "id": "hired-collector",
   "metadata": {},
   "outputs": [
    {
     "name": "stdout",
     "output_type": "stream",
     "text": [
      "Enter the natural number n = 4\n",
      "8\n"
     ]
    }
   ],
   "source": [
    "#sum for even number \n",
    "total_sum=0\n",
    "number=int(input(\"Enter the natural number n = \"))\n",
    "for i in range(number):\n",
    "    if(i%2==0):\n",
    "        total_sum=total_sum+i+3\n",
    "print(total_sum)   \n",
    "   "
   ]
  },
  {
   "cell_type": "code",
   "execution_count": null,
   "id": "completed-transformation",
   "metadata": {},
   "outputs": [],
   "source": [
    "#product for even number\n",
    "number=int(input(\"Enter the natural number n = \"))\n",
    "product_sum=1\n",
    "i=0\n",
    "for i in range(number):\n",
    "    if(i%2==0):\n",
    "        product_sum=product_sum*(i+3)\n",
    "print(product_sum) "
   ]
  },
  {
   "cell_type": "code",
   "execution_count": 2,
   "id": "instructional-devices",
   "metadata": {},
   "outputs": [
    {
     "name": "stdout",
     "output_type": "stream",
     "text": [
      "month is n = 5\n",
      "It is working day\n"
     ]
    }
   ],
   "source": [
    "#Question2\n",
    "n=int(input(\"month is n = \"))\n",
    "day_of_week=[\"sunday\",\"Monday\",\"Tuesday\",\"wednesday\",\"thursday\",\"friday\",\"saturday\"]\n",
    "if (n>=1 and n<=5):\n",
    "    print(\"It is working day\")\n",
    "elif(n==0 or n==6):\n",
    "    print(\"It is weekend\")\n",
    "else:\n",
    "    print(\"invalid day\")"
   ]
  },
  {
   "cell_type": "code",
   "execution_count": null,
   "id": "undefined-punch",
   "metadata": {},
   "outputs": [],
   "source": [
    "#Questions3\n",
    "n= int(input(\"Enter the month number n: \"))\n",
    "days = days_in_month(n)\n",
    "days = [31, 28, 31, 30, 31, 30, 31, 31, 30, 31, 30, 31]\n",
    "if n==1:\n",
    "     print(The number of days in month {n+ 1} is: {days}\")\n",
    "elif (-)\n",
    "\n",
    "#print(f\"The number of days in month {month_number + 1} is: {days}\")"
   ]
  },
  {
   "cell_type": "code",
   "execution_count": 1,
   "id": "eastern-jewelry",
   "metadata": {},
   "outputs": [
    {
     "name": "stdout",
     "output_type": "stream",
     "text": [
      "Delice\n",
      "Delice\n",
      "Delice\n"
     ]
    }
   ],
   "source": [
    "#Questions4\n",
    "#by using while loop\n",
    "name = \"Delice\"\n",
    "i= 0\n",
    "while i< 3:\n",
    "    print(name)\n",
    "    i=i+1"
   ]
  },
  {
   "cell_type": "code",
   "execution_count": 5,
   "id": "apparent-tomato",
   "metadata": {},
   "outputs": [
    {
     "name": "stdout",
     "output_type": "stream",
     "text": [
      "IZERE\n",
      "IZERE\n",
      "IZERE\n"
     ]
    }
   ],
   "source": [
    "#by using for loop\n",
    "my_name = \"IZERE\"\n",
    "for i in range(3):\n",
    "    print(my_name)\n"
   ]
  },
  {
   "cell_type": "code",
   "execution_count": 1,
   "id": "existing-prairie",
   "metadata": {},
   "outputs": [
    {
     "name": "stdout",
     "output_type": "stream",
     "text": [
      "Enter (x0): 2\n",
      "Enter (x1): 3\n",
      "x0 = 2\n",
      "x1 = 3\n",
      "x2 = 5\n",
      "x3 = 8\n",
      "x4 = 13\n",
      "x5 = 21\n",
      "x6 = 34\n",
      "x7 = 55\n",
      "x8 = 89\n",
      "x9 = 144\n",
      "x10 = 233\n",
      "x11 = 377\n",
      "x12 = 610\n",
      "x13 = 987\n",
      "x14 = 1597\n"
     ]
    }
   ],
   "source": [
    "#Question5\n",
    "x0 = int(input(\"Enter (x0): \"))\n",
    "x1 = int(input(\"Enter (x1): \"))\n",
    "\n",
    "# Print the first two terms\n",
    "print(f\"x0 = {x0}\")\n",
    "print(f\"x1 = {x1}\")\n",
    "\n",
    "for i in range(2, 15): \n",
    "    xn = x0 + x1  \n",
    "    print(f\"x{i} = {xn}\")\n",
    "\n",
    "    x0 = x1\n",
    "    x1 = xn\n"
   ]
  },
  {
   "cell_type": "code",
   "execution_count": 9,
   "id": "compact-geology",
   "metadata": {},
   "outputs": [
    {
     "name": "stdout",
     "output_type": "stream",
     "text": [
      "Enter the first number (x0): 4\n",
      "Enter the second number (x1): 5\n",
      "x0 = 4\n",
      "x1 = 5\n",
      "x2 = 14\n",
      "x3 = 22\n",
      "x4 = 53\n",
      "x5 = 92\n",
      "x6 = 205\n",
      "x7 = 378\n",
      "x8 = 804\n",
      "x9 = 1536\n",
      "x10 = 3180\n",
      "x11 = 6198\n",
      "x12 = 12639\n",
      "x13 = 24913\n",
      "x14 = 50373\n",
      "x15 = 99925\n",
      "x16 = 201081\n",
      "x17 = 400315\n",
      "x18 = 803400\n",
      "x19 = 1602645\n",
      "x20 = 3211522\n",
      "x21 = 6413696\n",
      "x22 = 12841414\n",
      "x23 = 25661795\n",
      "x24 = 51355139\n",
      "x25 = 102662954\n",
      "x26 = 205396894\n",
      "x27 = 410687309\n",
      "x28 = 821534336\n",
      "x29 = 1642829095\n"
     ]
    }
   ],
   "source": [
    "#questions 6\n",
    "x0 = int(input(\"Enter the first number (x0): \"))\n",
    "x1 = int(input(\"Enter the second number (x1): \"))\n",
    "\n",
    "print(f\"x0 = {x0}\")\n",
    "print(f\"x1 = {x1}\")\n",
    "\n",
    "# Calculate and print the next 28 terms to get the first 30 terms\n",
    "for n in range(2, 30):\n",
    "    x2 = (x1 + 6 * x0) // 2  # Apply the recurrence formula\n",
    "    print(f\"x{n} = {x2}\")\n",
    "    \n",
    "    # Update x0 and x1 for the next iteration\n",
    "    x0 = x1\n",
    "    x1 = x2\n"
   ]
  },
  {
   "cell_type": "code",
   "execution_count": 2,
   "id": "curious-dancing",
   "metadata": {},
   "outputs": [
    {
     "name": "stdout",
     "output_type": "stream",
     "text": [
      "Enter a year: 2005\n",
      "it is not a leap year.\n"
     ]
    }
   ],
   "source": [
    "#QUESTIONS7\n",
    "year = int(input(\"Enter a year: \"))\n",
    "\n",
    "is_leap = (year % 4 == 0) and ((year % 100 != 0) or (year % 400 == 0))\n",
    "\n",
    "if is_leap:\n",
    "    print(f\" it is a leap year.\")\n",
    "else:\n",
    "    print(f\"it is not a leap year.\")\n"
   ]
  },
  {
   "cell_type": "code",
   "execution_count": 5,
   "id": "dying-things",
   "metadata": {},
   "outputs": [
    {
     "name": "stdout",
     "output_type": "stream",
     "text": [
      "Enter a number (n): 4\n",
      "The sum of the squares of the first 4 natural numbers is: 30\n"
     ]
    }
   ],
   "source": [
    "#questions 8 using for loop\n",
    "n = int(input(\"Enter a number (n): \"))\n",
    "sum = 0\n",
    "for i in range(1, n+1):\n",
    "    sum += i**2 \n",
    "\n",
    "print(f\"The sum of the squares of the first {n} natural numbers is: {sum}\")\n",
    "\n"
   ]
  },
  {
   "cell_type": "code",
   "execution_count": 6,
   "id": "cordless-stock",
   "metadata": {},
   "outputs": [
    {
     "name": "stdout",
     "output_type": "stream",
     "text": [
      "Enter a number (n): 4\n",
      "The sum of the squares of the first 4 natural numbers is: 30\n"
     ]
    }
   ],
   "source": [
    "#questions 8 using while loop\n",
    "# Input from the user\n",
    "n = int(input(\"Enter a number (n): \"))\n",
    "\n",
    "# Initialize sum and counter\n",
    "sum= 0\n",
    "i = 1\n",
    "\n",
    "while i <= n:\n",
    "    sum+= i**2 \n",
    "    i += 1  \n",
    "print(f\"The sum of the squares of the first {n} natural numbers is: {sum}\")\n"
   ]
  },
  {
   "cell_type": "code",
   "execution_count": 7,
   "id": "micro-maria",
   "metadata": {},
   "outputs": [
    {
     "name": "stdout",
     "output_type": "stream",
     "text": [
      "natural number: 4\n",
      "Divisors of 4 are:\n",
      "1\n",
      "2\n",
      "4\n"
     ]
    }
   ],
   "source": [
    "#questions 9 a)\n",
    "n = int(input(\"natural number: \"))\n",
    "\n",
    "print(f\"Divisors of {n} are:\")\n",
    "\n",
    "for i in range(1, n+ 1): \n",
    "    if n % i == 0:  \n",
    "        print(i) \n"
   ]
  },
  {
   "cell_type": "code",
   "execution_count": 10,
   "id": "valuable-clark",
   "metadata": {},
   "outputs": [
    {
     "name": "stdout",
     "output_type": "stream",
     "text": [
      "Enter a number between 0 and 9: 5\n",
      "Enter the number up to which the multiplication table should go: 2\n",
      "Multiplication table for 5 up to 2:\n",
      "5 x 1 = 5\n",
      "5 x 2 = 10\n"
     ]
    }
   ],
   "source": [
    "#questions 10\n",
    "n = int(input(\"Enter a number between 0 and 9: \"))\n",
    "if (n >= 0 and n <= 9):\n",
    "\n",
    "    N = int(input(\"Enter the number up to which the multiplication table should go: \"))\n",
    "    \n",
    "    print(f\"Multiplication table for {n} up to {N}:\")\n",
    "    for i in range(1, N + 1):\n",
    "        print(f\"{n} x {i} = {n * i}\")\n",
    "else:\n",
    "    print(\"Invalid input. Please enter a number between 0 and 9.\")\n"
   ]
  },
  {
   "cell_type": "code",
   "execution_count": 11,
   "id": "minus-onion",
   "metadata": {},
   "outputs": [
    {
     "name": "stdout",
     "output_type": "stream",
     "text": [
      "Numbers between 0 and 40 that are multiples of 3, 7, or 11:\n",
      "0\n",
      "3\n",
      "6\n",
      "7\n",
      "9\n",
      "11\n",
      "12\n",
      "14\n",
      "15\n",
      "18\n",
      "21\n",
      "22\n",
      "24\n",
      "27\n",
      "28\n",
      "30\n",
      "33\n",
      "35\n",
      "36\n",
      "39\n"
     ]
    }
   ],
   "source": [
    "#questions 11\n",
    "print(\"Numbers between 0 and 40 that are multiples of 3, 7, or 11:\")\n",
    "for i in range(0, 41):\n",
    "    if i % 3 == 0 or i % 7 == 0 or i % 11 == 0:  \n",
    "        print(i)\n"
   ]
  }
 ],
 "metadata": {
  "kernelspec": {
   "display_name": "Python 3",
   "language": "python",
   "name": "python3"
  },
  "language_info": {
   "codemirror_mode": {
    "name": "ipython",
    "version": 3
   },
   "file_extension": ".py",
   "mimetype": "text/x-python",
   "name": "python",
   "nbconvert_exporter": "python",
   "pygments_lexer": "ipython3",
   "version": "3.9.2"
  }
 },
 "nbformat": 4,
 "nbformat_minor": 5
}
